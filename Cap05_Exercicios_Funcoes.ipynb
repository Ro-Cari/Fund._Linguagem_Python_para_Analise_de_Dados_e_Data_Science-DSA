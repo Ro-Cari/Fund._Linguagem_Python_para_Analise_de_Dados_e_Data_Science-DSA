{
  "cells": [
    {
      "cell_type": "markdown",
      "metadata": {
        "id": "view-in-github",
        "colab_type": "text"
      },
      "source": [
        "<a href=\"https://colab.research.google.com/github/Ro-Cari/Fund._Linguagem_Python_para_Analise_de_Dados_e_Data_Science-DSA/blob/main/Cap05_Exercicios_Funcoes.ipynb\" target=\"_parent\"><img src=\"https://colab.research.google.com/assets/colab-badge.svg\" alt=\"Open In Colab\"/></a>"
      ]
    },
    {
      "cell_type": "code",
      "execution_count": null,
      "metadata": {
        "id": "_k7IBm9Vgy3S",
        "outputId": "a9ed393b-2a2c-49c0-c658-8ad1512c7712"
      },
      "outputs": [
        {
          "name": "stdout",
          "output_type": "stream",
          "text": [
            "Versão da Linguagem Python Usada Neste Jupyter Notebook: 3.8.8\n"
          ]
        }
      ],
      "source": [
        "# Versão da Linguagem Python\n",
        "from platform import python_version\n",
        "print('Versão da Linguagem Python Usada Neste Jupyter Notebook:', python_version())"
      ]
    },
    {
      "cell_type": "markdown",
      "metadata": {
        "id": "YRUPHtLIgy3U"
      },
      "source": [
        "## Exercícios - Métodos e Funções"
      ]
    },
    {
      "cell_type": "code",
      "execution_count": 6,
      "metadata": {
        "id": "szhJiaX0gy3U"
      },
      "outputs": [],
      "source": [
        "# Exercício 1 - Crie uma função que imprima a sequência de números pares entre 1 e 20 (a função não recebe parâmetro)\n",
        "# e depois faça uma chamada à função para listar os números"
      ]
    },
    {
      "cell_type": "code",
      "source": [
        "for i in range (1,21):\n",
        "    ehpar = i % 2\n",
        "    if ehpar == 0:\n",
        "        print(i)"
      ],
      "metadata": {
        "colab": {
          "base_uri": "https://localhost:8080/"
        },
        "id": "tWEWVvzHg2i4",
        "outputId": "f4c95025-7c3b-476a-dba7-1b257b1892d4"
      },
      "execution_count": 10,
      "outputs": [
        {
          "output_type": "stream",
          "name": "stdout",
          "text": [
            "2\n",
            "4\n",
            "6\n",
            "8\n",
            "10\n",
            "12\n",
            "14\n",
            "16\n",
            "18\n",
            "20\n"
          ]
        }
      ]
    },
    {
      "cell_type": "code",
      "execution_count": null,
      "metadata": {
        "id": "ctP3XPX2gy3V"
      },
      "outputs": [],
      "source": [
        "# Exercício 2 - Crie uam função que receba uma string como argumento e retorne a mesma string em letras maiúsculas.\n",
        "# Faça uma chamada à função, passando como parâmetro uma string"
      ]
    },
    {
      "cell_type": "code",
      "source": [
        "texto = input(\"Digite um texto: \")\n",
        "print(texto.upper())"
      ],
      "metadata": {
        "colab": {
          "base_uri": "https://localhost:8080/"
        },
        "id": "6dZyWpo4iFqr",
        "outputId": "978e6edd-0cec-4238-ef07-c07539a0b2f1"
      },
      "execution_count": 11,
      "outputs": [
        {
          "output_type": "stream",
          "name": "stdout",
          "text": [
            "Digite um texto: roberta\n",
            "ROBERTA\n"
          ]
        }
      ]
    },
    {
      "cell_type": "code",
      "execution_count": 13,
      "metadata": {
        "colab": {
          "base_uri": "https://localhost:8080/"
        },
        "id": "k43JMwAogy3V",
        "outputId": "da5f542c-1778-42f3-be0c-81af8016b5b8"
      },
      "outputs": [
        {
          "output_type": "stream",
          "name": "stdout",
          "text": [
            "[5, 6]\n"
          ]
        }
      ],
      "source": [
        "# Exercício 3 - Crie uma função que receba como parâmetro uma lista de 4 elementos, adicione 2 elementos a lista e\n",
        "# imprima a lista\n",
        "def lista (el1,el2, el3, el4):\n",
        "    return el1, el2, el3, el4\n",
        "\n",
        "lista = []\n",
        "\n",
        "lista.append(5)\n",
        "lista.append(6)\n",
        "print(lista)\n"
      ]
    },
    {
      "cell_type": "code",
      "execution_count": 20,
      "metadata": {
        "colab": {
          "base_uri": "https://localhost:8080/"
        },
        "id": "iCax6Cdagy3W",
        "outputId": "f542dfc7-50c4-441d-9fa2-ee589dba9f34"
      },
      "outputs": [
        {
          "output_type": "stream",
          "name": "stdout",
          "text": [
            "100\n",
            "A\n",
            "B\n",
            "C\n"
          ]
        }
      ],
      "source": [
        "# Exercício 4 - Crie uma função que receba um argumento formal e uma possível lista de elementos. Faça duas chamadas\n",
        "# à função, com apenas 1 elemento e na segunda chamada com 4 elementos\n",
        "def elementos(arg, *lista):\n",
        "    print(arg)\n",
        "    for i in lista:\n",
        "        print(i),\n",
        "    return;\n",
        "\n",
        "elementos(100)"
      ]
    },
    {
      "cell_type": "code",
      "source": [
        "elementos('A', 'B', 'C', 'D')"
      ],
      "metadata": {
        "colab": {
          "base_uri": "https://localhost:8080/"
        },
        "id": "y4GkZKMed3_h",
        "outputId": "06cddcd2-d5de-435f-c6af-ce20e6ba4868"
      },
      "execution_count": 21,
      "outputs": [
        {
          "output_type": "stream",
          "name": "stdout",
          "text": [
            "A\n",
            "B\n",
            "C\n",
            "D\n"
          ]
        }
      ]
    },
    {
      "cell_type": "code",
      "execution_count": 15,
      "metadata": {
        "colab": {
          "base_uri": "https://localhost:8080/"
        },
        "id": "aez36DvIgy3W",
        "outputId": "6fc4ab6f-fea6-4478-d77e-149dce5580e9"
      },
      "outputs": [
        {
          "output_type": "stream",
          "name": "stdout",
          "text": [
            "Digite o primeiro número: 1\n",
            "Digite o segundo número: 2\n",
            "A soma é:  3\n"
          ]
        }
      ],
      "source": [
        "# Exercício 5 - Crie uma função anônima e atribua seu retorno a uma variável chamada soma. A expressão vai receber 2\n",
        "# números como parâmetro e retornar a soma deles\n",
        "def soma(n1, n2):\n",
        "    return n1 + n2\n",
        "\n",
        "n1 = int(input(\"Digite o primeiro número: \"))\n",
        "n2 = int(input(\"Digite o segundo número: \"))\n",
        "print(\"A soma é: \",soma(n1, n2))"
      ]
    },
    {
      "cell_type": "code",
      "execution_count": 14,
      "metadata": {
        "colab": {
          "base_uri": "https://localhost:8080/"
        },
        "id": "DLczcp0Ngy3X",
        "outputId": "2c65a5cd-1037-4d15-b0ef-27633a976bc9"
      },
      "outputs": [
        {
          "output_type": "stream",
          "name": "stdout",
          "text": [
            "Dentro da função o total é:  30\n",
            "Fora da função o total é:  0\n"
          ]
        }
      ],
      "source": [
        "# Exercício 6 - Execute o código abaixo e certifique-se que compreende a diferença entre variável global e local\n",
        "total = 0\n",
        "def soma( arg1, arg2 ):\n",
        "    total = arg1 + arg2;\n",
        "    print (\"Dentro da função o total é: \", total)\n",
        "    return total;\n",
        "\n",
        "soma( 10, 20 );\n",
        "print (\"Fora da função o total é: \", total)"
      ]
    },
    {
      "cell_type": "code",
      "execution_count": 12,
      "metadata": {
        "colab": {
          "base_uri": "https://localhost:8080/"
        },
        "id": "GTMw5_u0gy3X",
        "outputId": "c277c11e-ec35-4ebf-d78f-a5852f281188"
      },
      "outputs": [
        {
          "output_type": "stream",
          "name": "stdout",
          "text": [
            "[102.56, 97.7, 99.14, 100.03999999999999]\n"
          ]
        }
      ],
      "source": [
        "# Exercício 7 - Abaixo você encontra uma lista com temperaturas em graus Celsius\n",
        "# Crie uma função anônima que converta cada temperatura para Fahrenheit\n",
        "# Dica: para conseguir realizar este exercício, você deve criar sua função lambda, dentro de uma função\n",
        "# (que será estudada no próximo capítulo). Isso permite aplicar sua função a cada elemento da lista\n",
        "# Como descobrir a fórmula matemática que converte de Celsius para Fahrenheit? Pesquise!!!\n",
        "Celsius = [39.2, 36.5, 37.3, 37.8]\n",
        "\n",
        "def converter (temperatura):\n",
        "    return map(lambda c: (c * 1.8) + 32, temperatura)\n",
        "\n",
        "print(list(converter(Celsius)))\n"
      ]
    },
    {
      "cell_type": "code",
      "execution_count": 23,
      "metadata": {
        "colab": {
          "base_uri": "https://localhost:8080/"
        },
        "id": "-LjuIacvgy3X",
        "outputId": "7507212a-058d-4e52-b07f-bda84fbfadcc"
      },
      "outputs": [
        {
          "output_type": "execute_result",
          "data": {
            "text/plain": [
              "[1, 4, 9, 16, 25, 36, 49, 64, 81, 100]"
            ]
          },
          "metadata": {},
          "execution_count": 23
        }
      ],
      "source": [
        "# Exercício 8 - Crie uma list comprehension que imprima o quadrado dos números de 1 a 10\n",
        "[x**2 for x in range(1,11)]"
      ]
    },
    {
      "cell_type": "code",
      "execution_count": 8,
      "metadata": {
        "colab": {
          "base_uri": "https://localhost:8080/"
        },
        "id": "TseSWpZWgy3X",
        "outputId": "1e134c1f-a696-4109-c270-077e12f58f52"
      },
      "outputs": [
        {
          "output_type": "stream",
          "name": "stdout",
          "text": [
            "['maça', 'banana']\n"
          ]
        }
      ],
      "source": [
        "# Exercício 9 - Crie uma list comprehension que imprima as palavras com a letra a no nome\n",
        "palavras = [\"maça\", \"coiote\", \"banana\", \"terreno\", \"Python\"]\n",
        "nova_lista = [x for x in palavras if \"a\" in x]\n",
        "\n",
        "print(nova_lista)"
      ]
    },
    {
      "cell_type": "code",
      "execution_count": 9,
      "metadata": {
        "colab": {
          "base_uri": "https://localhost:8080/"
        },
        "id": "0lImiu8Cgy3Y",
        "outputId": "899cc780-c955-4a59-f0ba-0c73d22f7d72"
      },
      "outputs": [
        {
          "output_type": "execute_result",
          "data": {
            "text/plain": [
              "[1, 2, 3, 4]"
            ]
          },
          "metadata": {},
          "execution_count": 9
        }
      ],
      "source": [
        "# Exercício 10 - Crie uma list comprehension que imprima os números menores que 5 em um intervalo de 1 a 10\n",
        "[x for x in range(1,10) if x <5]\n"
      ]
    }
  ],
  "metadata": {
    "kernelspec": {
      "display_name": "Python 3 (ipykernel)",
      "language": "python",
      "name": "python3"
    },
    "language_info": {
      "codemirror_mode": {
        "name": "ipython",
        "version": 3
      },
      "file_extension": ".py",
      "mimetype": "text/x-python",
      "name": "python",
      "nbconvert_exporter": "python",
      "pygments_lexer": "ipython3",
      "version": "3.9.13"
    },
    "colab": {
      "provenance": [],
      "include_colab_link": true
    }
  },
  "nbformat": 4,
  "nbformat_minor": 0
}