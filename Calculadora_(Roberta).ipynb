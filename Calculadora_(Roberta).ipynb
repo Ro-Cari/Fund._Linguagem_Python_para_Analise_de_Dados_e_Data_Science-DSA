{
  "nbformat": 4,
  "nbformat_minor": 0,
  "metadata": {
    "colab": {
      "provenance": [],
      "authorship_tag": "ABX9TyMHMoS9+R8fwsidPup7RM0q",
      "include_colab_link": true
    },
    "kernelspec": {
      "name": "python3",
      "display_name": "Python 3"
    },
    "language_info": {
      "name": "python"
    }
  },
  "cells": [
    {
      "cell_type": "markdown",
      "metadata": {
        "id": "view-in-github",
        "colab_type": "text"
      },
      "source": [
        "<a href=\"https://colab.research.google.com/github/Ro-Cari/Fund._Linguagem_Python_para_Analise_de_Dados_e_Data_Science-DSA/blob/main/Calculadora_(Roberta).ipynb\" target=\"_parent\"><img src=\"https://colab.research.google.com/assets/colab-badge.svg\" alt=\"Open In Colab\"/></a>"
      ]
    },
    {
      "cell_type": "code",
      "execution_count": 44,
      "metadata": {
        "colab": {
          "base_uri": "https://localhost:8080/"
        },
        "id": "O293p19sKYLf",
        "outputId": "74a34d18-b810-44f7-b815-2c8fb84fe51c"
      },
      "outputs": [
        {
          "output_type": "stream",
          "name": "stdout",
          "text": [
            "\n",
            "******************* Calculadora em Python *******************\n",
            "\n",
            "Selecione o número da operação desejada: \n",
            "\n",
            "1 - Soma\n",
            "2 - Subtração\n",
            "3 - Multiplicação\n",
            "4 - Divisão\n",
            "\n",
            "Digite a opção desejada(1|2|3|4): 1\n",
            "\n",
            "Digite o primeiro número: 2\n",
            "Digite o segundo número: 3\n",
            "\n",
            "A soma de 2 + 3 = 5\n"
          ]
        }
      ],
      "source": [
        "# Calculadora em Python (Roberta)\n",
        "\n",
        "# Desenvolva uma calculadora em Python com tudo que você aprendeu nos capítulos até aqui no curso.\n",
        "# A solução será apresentada no próximo capítulo!\n",
        "\n",
        "print(\"\\n******************* Calculadora em Python *******************\")\n",
        "print(\"\\nSelecione o número da operação desejada: \\n\")\n",
        "print(\"1 - Soma\")\n",
        "print(\"2 - Subtração\")\n",
        "print(\"3 - Multiplicação\")\n",
        "print(\"4 - Divisão\")\n",
        "\n",
        "def soma(n1, n2):\n",
        "    return(n1 + n2)\n",
        "\n",
        "def subtracao(n1, n2):\n",
        "    return(n1 - n2)\n",
        "\n",
        "def multiplicacao(n1, n2):\n",
        "    return(n1 * n2)\n",
        "\n",
        "def divisao(n1, n2):\n",
        "    return(n1 / n2)\n",
        "\n",
        "opcao = int(input(\"\\nDigite a opção desejada(1|2|3|4): \"))\n",
        "n1 = int(input(\"\\nDigite o primeiro número: \"))\n",
        "n2 = int(input(\"Digite o segundo número: \"))\n",
        "\n",
        "\n",
        "if opcao == 1:\n",
        "    print(\"\\nA soma de\", n1, \"+\", n2, \"=\", soma(n1, n2)),\n",
        "elif opcao == 2:\n",
        "    print(\"\\nA subtração de\", n1, \"-\", n2, \"=\", subtracao(n1, n2)),\n",
        "elif opcao == 3:\n",
        "    print(\"\\nA multiplicação de\", n1, \"*\", n2, \"=\", multiplicacao(n1, n2)),\n",
        "elif opcao == 4:\n",
        "    print(\"\\nA divisão de\", n1, \"/\", n2, \"=\", divisao(n1, n2)),\n",
        "else:\n",
        "    print(\"Opção inválida\")\n",
        "\n",
        "\n"
      ]
    }
  ]
}