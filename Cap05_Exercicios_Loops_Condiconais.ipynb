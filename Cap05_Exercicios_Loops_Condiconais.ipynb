{
  "cells": [
    {
      "cell_type": "markdown",
      "metadata": {
        "id": "view-in-github",
        "colab_type": "text"
      },
      "source": [
        "<a href=\"https://colab.research.google.com/github/Ro-Cari/Fund._Linguagem_Python_para_Analise_de_Dados_e_Data_Science-DSA/blob/main/Cap05_Exercicios_Loops_Condiconais.ipynb\" target=\"_parent\"><img src=\"https://colab.research.google.com/assets/colab-badge.svg\" alt=\"Open In Colab\"/></a>"
      ]
    },
    {
      "cell_type": "code",
      "execution_count": null,
      "metadata": {
        "id": "Y0qzZbc8ic7W"
      },
      "outputs": [],
      "source": [
        "# Versão da Linguagem Python\n",
        "from platform import python_version\n",
        "print('Versão da Linguagem Python Usada Neste Jupyter Notebook:', python_version())"
      ]
    },
    {
      "cell_type": "markdown",
      "metadata": {
        "id": "a-bgE_Hwic7Y"
      },
      "source": [
        "## Exercícios - Loops e Condiconais"
      ]
    },
    {
      "cell_type": "code",
      "execution_count": null,
      "metadata": {
        "colab": {
          "base_uri": "https://localhost:8080/"
        },
        "id": "g7HegilTic7Z",
        "outputId": "1d31e506-6e97-4191-de26-f310478416a8"
      },
      "outputs": [
        {
          "output_type": "stream",
          "name": "stdout",
          "text": [
            "Qual o dia da semana? domingo\n",
            "Hoje é dia de descanso\n"
          ]
        }
      ],
      "source": [
        "# Exercício 1 - Crie uma estrutura que pergunte ao usuário qual o dia da semana. Se o dia for igual a Domingo ou\n",
        "# igual a sábado, imprima na tela \"Hoje é dia de descanso\", caso contrário imprima na tela \"Você precisa trabalhar!\"\n",
        "dia_da_semana = input(\"Qual o dia da semana? \").capitalize()\n",
        "if dia_da_semana == \"Domingo\" or dia_da_semana == \"Sabado\":\n",
        "    print(\"Hoje é dia de descanso\")\n",
        "else:\n",
        "    print(\"Você precisa trabalhar!\")"
      ]
    },
    {
      "cell_type": "code",
      "execution_count": null,
      "metadata": {
        "colab": {
          "base_uri": "https://localhost:8080/"
        },
        "id": "b8QKUvzSic7Z",
        "outputId": "0aee64f7-61db-4e4f-dc99-9677cfe63ea8"
      },
      "outputs": [
        {
          "output_type": "stream",
          "name": "stdout",
          "text": [
            "Morango faz parte da lista de frutas\n"
          ]
        }
      ],
      "source": [
        "# Exercício 2 - Crie uma lista de 5 frutas e verifique se a fruta 'Morango' faz parte da lista\n",
        "frutas = [\"manga\", \"melancia\", \"morango\", \"banana\", \"mamão\"]\n",
        "for fruta in frutas:\n",
        "    if fruta == \"morango\":\n",
        "        print(\"Morango faz parte da lista de frutas\")"
      ]
    },
    {
      "cell_type": "code",
      "execution_count": 13,
      "metadata": {
        "id": "wNHmiUn4ic7a",
        "colab": {
          "base_uri": "https://localhost:8080/"
        },
        "outputId": "c6da8816-9468-47ff-89b1-820c31380bbc"
      },
      "outputs": [
        {
          "output_type": "stream",
          "name": "stdout",
          "text": [
            "[4, 8, 12, 16]\n"
          ]
        }
      ],
      "source": [
        "# Exercício 3 - Crie uma tupla de 4 elementos, multiplique cada elemento da tupla por 2 e guarde os resultados em uma\n",
        "# lista\n",
        "tupla = (2, 4, 6, 8)\n",
        "lista = []\n",
        "\n",
        "for elemento in tupla:\n",
        "    lista.append(elemento * 2)\n",
        "print(lista)"
      ]
    },
    {
      "cell_type": "code",
      "execution_count": null,
      "metadata": {
        "colab": {
          "base_uri": "https://localhost:8080/"
        },
        "id": "JycmGH91ic7a",
        "outputId": "ea2531e7-2e29-41f2-8d07-c32b8d16d5bf"
      },
      "outputs": [
        {
          "output_type": "stream",
          "name": "stdout",
          "text": [
            "100\n",
            "102\n",
            "104\n",
            "106\n",
            "108\n",
            "110\n",
            "112\n",
            "114\n",
            "116\n",
            "118\n",
            "120\n",
            "122\n",
            "124\n",
            "126\n",
            "128\n",
            "130\n",
            "132\n",
            "134\n",
            "136\n",
            "138\n",
            "140\n",
            "142\n",
            "144\n",
            "146\n",
            "148\n",
            "150\n"
          ]
        }
      ],
      "source": [
        "# Exercício 4 - Crie uma sequência de números pares entre 100 e 150 e imprima na tela\n",
        "for n in range(100, 151):\n",
        "    if n % 2 == 0:\n",
        "        print(n)"
      ]
    },
    {
      "cell_type": "markdown",
      "source": [],
      "metadata": {
        "id": "YvlncsvU7xE3"
      }
    },
    {
      "cell_type": "code",
      "execution_count": null,
      "metadata": {
        "colab": {
          "base_uri": "https://localhost:8080/"
        },
        "id": "s8MUeGElic7b",
        "outputId": "4575e742-eae7-4112-ab5f-bec88bb9df8f"
      },
      "outputs": [
        {
          "output_type": "stream",
          "name": "stdout",
          "text": [
            "Temperatura é:  40\n",
            "Temperatura é:  39\n",
            "Temperatura é:  38\n",
            "Temperatura é:  37\n",
            "Temperatura é:  36\n"
          ]
        }
      ],
      "source": [
        "# Exercício 5 - Crie uma variável chamada temperatura e atribua o valor 40. Enquanto temperatura for maior que 35,\n",
        "# imprima as temperaturas na tela\n",
        "temperatura= 40\n",
        "\n",
        "while temperatura > 35:\n",
        "    print(\"Temperatura é: \" , temperatura)\n",
        "    temperatura -= 1"
      ]
    },
    {
      "cell_type": "code",
      "execution_count": null,
      "metadata": {
        "colab": {
          "base_uri": "https://localhost:8080/"
        },
        "id": "1RR_MHQJic7b",
        "outputId": "1d9c07e2-5763-48bd-d40a-4636f9170c6b"
      },
      "outputs": [
        {
          "output_type": "stream",
          "name": "stdout",
          "text": [
            "Contador:  0\n",
            "Contador:  1\n",
            "Contador:  2\n",
            "Contador:  3\n",
            "Contador:  4\n",
            "Contador:  5\n",
            "Contador:  6\n",
            "Contador:  7\n",
            "Contador:  8\n",
            "Contador:  9\n",
            "Contador:  10\n",
            "Contador:  11\n",
            "Contador:  12\n",
            "Contador:  13\n",
            "Contador:  14\n",
            "Contador:  15\n",
            "Contador:  16\n",
            "Contador:  17\n",
            "Contador:  18\n",
            "Contador:  19\n",
            "Contador:  20\n",
            "Contador:  21\n",
            "Contador:  22\n",
            "Contador:  23\n"
          ]
        }
      ],
      "source": [
        "# Exercício 6 - Crie uma variável chamada contador = 0. Enquanto counter for menor que 100, imprima os valores na tela,\n",
        "# mas quando for encontrado o valor 23, interrompa a execução do programa\n",
        "\n",
        "contador = 0\n",
        "\n",
        "while contador < 100:\n",
        "    print(\"Contador: \" , contador)\n",
        "    if contador  == 23:\n",
        "        break\n",
        "    contador += 1\n"
      ]
    },
    {
      "cell_type": "code",
      "execution_count": 3,
      "metadata": {
        "colab": {
          "base_uri": "https://localhost:8080/"
        },
        "id": "oGIyhLFPic7c",
        "outputId": "6f5778c2-2961-4692-9686-4165296c4a71"
      },
      "outputs": [
        {
          "output_type": "stream",
          "name": "stdout",
          "text": [
            "[4, 6, 8, 10, 12, 14, 16, 18, 20]\n"
          ]
        }
      ],
      "source": [
        "# Exercício 7 - Crie uma lista vazia e uma variável com valor 4. Enquanto o valor da variável for menor ou igual a 20,\n",
        "# adicione à lista, apenas os valores pares e imprima a lista\n",
        "\n",
        "lista = []\n",
        "valor = 4\n",
        "\n",
        "while valor <= 20:\n",
        "    if valor % 2 == 0:\n",
        "        lista.append(valor)\n",
        "    valor += 1\n",
        "print(lista)"
      ]
    },
    {
      "cell_type": "code",
      "execution_count": 6,
      "metadata": {
        "id": "E_6abmAeic7c",
        "colab": {
          "base_uri": "https://localhost:8080/"
        },
        "outputId": "c67c30fe-9d68-4398-d799-e29a9129df1f"
      },
      "outputs": [
        {
          "output_type": "stream",
          "name": "stdout",
          "text": [
            "[5, 7, 9, 11, 13, 15, 17, 19, 21, 23, 25, 27, 29, 31, 33, 35, 37, 39, 41, 43]\n"
          ]
        }
      ],
      "source": [
        "# Exercício 8 - Transforme o resultado desta função range em uma lista: range(5, 45, 2)\n",
        "nums = range(5, 45, 2)\n",
        "lista = []\n",
        "\n",
        "for num in nums:\n",
        "    lista.append(num)\n",
        "print(lista)"
      ]
    },
    {
      "cell_type": "code",
      "execution_count": null,
      "metadata": {
        "id": "1VfNELV4ic7d"
      },
      "outputs": [],
      "source": [
        "# Exercício 9 - Faça a correção dos erros no código abaixo e execute o programa. Dica: são 3 erros.\n",
        "temperatura = float(input('Qual a temperatura? '))\n",
        "if temperatura > 30\n",
        "print('Vista roupas leves.')\n",
        "else\n",
        "    print('Busque seus casacos.')"
      ]
    },
    {
      "cell_type": "code",
      "source": [
        "temperatura = float(input('Qual a temperatura? '))\n",
        "if temperatura > 30:\n",
        "    print('Vista roupas leves.')\n",
        "else:\n",
        "    print('Busque seus casacos.')"
      ],
      "metadata": {
        "colab": {
          "base_uri": "https://localhost:8080/"
        },
        "id": "DNAqCQ84A_hM",
        "outputId": "bd9cd98f-adb1-4b25-93df-cecd5f82736b"
      },
      "execution_count": 7,
      "outputs": [
        {
          "output_type": "stream",
          "name": "stdout",
          "text": [
            "Qual a temperatura? 10\n",
            "Busque seus casacos.\n"
          ]
        }
      ]
    },
    {
      "cell_type": "code",
      "execution_count": 10,
      "metadata": {
        "id": "2w-_RMyKic7d",
        "colab": {
          "base_uri": "https://localhost:8080/"
        },
        "outputId": "076e4e89-550d-4ea3-d0d9-9a3fa929faed"
      },
      "outputs": [
        {
          "output_type": "stream",
          "name": "stdout",
          "text": [
            "A letra 'r' aparece 5 vezes na frase.\n",
            "A letra 'r' aparece 5 vezes na frase.\n",
            "A letra 'r' aparece 5 vezes na frase.\n"
          ]
        }
      ],
      "source": [
        "# Exercício 10 - Faça um programa que conte quantas vezes a letra \"r\" aparece na frase abaixo. Use um placeholder na\n",
        "# sua instrução de impressão\n",
        "\n",
        "# “A gratidão é a virtude das almas nobres. O quão feliz é uma pessoa depende da profundidade de sua gratidão.”\n",
        "\n",
        "frase = \"A gratidão é a virtude das almas nobres. O quão feliz é uma pessoa depende da profundidade de sua gratidão.\"\n",
        "\n",
        "contador = 0\n",
        "\n",
        "for letra in frase:\n",
        "    if letra == \"r\":\n",
        "        contador += 1\n",
        "print(\"A letra 'r' aparece %s vezes na frase.\" %(contador))\n",
        "print(\"A letra 'r' aparece {} vezes na frase.\".format(contador))\n",
        "print(f\"A letra 'r' aparece {contador} vezes na frase.\")"
      ]
    }
  ],
  "metadata": {
    "kernelspec": {
      "display_name": "Python 3 (ipykernel)",
      "language": "python",
      "name": "python3"
    },
    "language_info": {
      "codemirror_mode": {
        "name": "ipython",
        "version": 3
      },
      "file_extension": ".py",
      "mimetype": "text/x-python",
      "name": "python",
      "nbconvert_exporter": "python",
      "pygments_lexer": "ipython3",
      "version": "3.9.13"
    },
    "colab": {
      "provenance": [],
      "include_colab_link": true
    }
  },
  "nbformat": 4,
  "nbformat_minor": 0
}